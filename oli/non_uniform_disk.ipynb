{
 "cells": [
  {
   "cell_type": "code",
   "execution_count": null,
   "id": "d35f39a5",
   "metadata": {},
   "outputs": [],
   "source": [
    "import numpy as np\n",
    "import math\n",
    "\n",
    "RADIUS = 50\n",
    "NUM_BINS = 100\n",
    "U_MAX = 5.0 / math.sqrt(RADIUS)\n",
    "ALPHA = -1"
   ]
  },
  {
   "cell_type": "code",
   "execution_count": 44,
   "id": "cfa08a9a",
   "metadata": {},
   "outputs": [],
   "source": [
    "def get_brightness(x: int, y: int) -> float:\n",
    "    r = math.sqrt(x**2 + y**2)\n",
    "    if (r > RADIUS):\n",
    "        return 0.0\n",
    "    if (r == 0.0):\n",
    "        return math.inf\n",
    "    return (r**ALPHA)"
   ]
  },
  {
   "cell_type": "code",
   "execution_count": 45,
   "id": "7fcdfa22",
   "metadata": {},
   "outputs": [
    {
     "name": "stdout",
     "output_type": "stream",
     "text": [
      "[[0.         0.         0.         0.33333333 0.         0.        ]\n",
      " [0.         0.35355339 0.4472136  0.5        0.4472136  0.35355339]\n",
      " [0.         0.4472136  0.70710678 1.         0.70710678 0.4472136 ]\n",
      " [0.33333333 0.5        1.                inf 1.         0.5       ]\n",
      " [0.         0.4472136  0.70710678 1.         0.70710678 0.4472136 ]\n",
      " [0.         0.35355339 0.4472136  0.5        0.4472136  0.35355339]]\n"
     ]
    }
   ],
   "source": [
    "# each coordinate represents the corresponding brightness coordinate on the disk\n",
    "brightness_grid = np.zeros((RADIUS*2, RADIUS*2))\n",
    "\n",
    "for i in range(-RADIUS, RADIUS):\n",
    "    for j in range(-RADIUS, RADIUS):\n",
    "        brightness_grid[i+RADIUS, j+RADIUS] = get_brightness(i, j)\n",
    "\n",
    "print(brightness_grid)\n",
    "\n",
    "\n",
    "# u_intensities = np.linspace(-U_MAX, U_MAX, NUM_BINS)\n"
   ]
  },
  {
   "cell_type": "code",
   "execution_count": null,
   "id": "6230d30e",
   "metadata": {},
   "outputs": [],
   "source": []
  }
 ],
 "metadata": {
  "kernelspec": {
   "display_name": "phys2923",
   "language": "python",
   "name": "python3"
  },
  "language_info": {
   "codemirror_mode": {
    "name": "ipython",
    "version": 3
   },
   "file_extension": ".py",
   "mimetype": "text/x-python",
   "name": "python",
   "nbconvert_exporter": "python",
   "pygments_lexer": "ipython3",
   "version": "3.11.13"
  }
 },
 "nbformat": 4,
 "nbformat_minor": 5
}
