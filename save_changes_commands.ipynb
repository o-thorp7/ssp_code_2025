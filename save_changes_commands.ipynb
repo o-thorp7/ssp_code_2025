{
 "cells": [
  {
   "cell_type": "markdown",
   "id": "313f7d0f",
   "metadata": {},
   "source": [
    "## Make sure your git is set up correctly first and on the `master` branch. And make sure you are in the `ssp_code_2025` directory\n",
    "(use `pwd` to check your current directory)"
   ]
  },
  {
   "cell_type": "markdown",
   "id": "dc0834d8",
   "metadata": {},
   "source": [
    "## Make sure to only edit files in **your** directory (not `/shared`)\n",
    "You can still copy paste from other folders"
   ]
  },
  {
   "cell_type": "markdown",
   "id": "f23a9716",
   "metadata": {},
   "source": [
    "- `git add .` - add *all* (modified) files in your directory to be ready for commits\n",
    "- `git commit -m \"custom message here\"` - commit the changes with a custom message (be short a descriptive)\n",
    "- `git pull origin master --rebase` - pull changes from git to load onto your computer so that it's up to date\n",
    "- `git push origin master` - push the changes to the git repo"
   ]
  },
  {
   "cell_type": "markdown",
   "id": "4a079116",
   "metadata": {},
   "source": []
  },
  {
   "cell_type": "code",
   "execution_count": null,
   "id": "fe724c6d",
   "metadata": {
    "vscode": {
     "languageId": "shellscript"
    }
   },
   "outputs": [],
   "source": [
    "git add .; git commit -m \"custom message here\"; git pull origin master --rebase; git push origin master"
   ]
  }
 ],
 "metadata": {
  "language_info": {
   "name": "python"
  }
 },
 "nbformat": 4,
 "nbformat_minor": 5
}
